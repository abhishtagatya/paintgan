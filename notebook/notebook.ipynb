{
  "cells": [
    {
      "cell_type": "markdown",
      "metadata": {
        "id": "_WvZ64fa47df"
      },
      "source": [
        "### Environment Setup"
      ]
    },
    {
      "cell_type": "code",
      "execution_count": null,
      "metadata": {
        "cellView": "form",
        "id": "dlZymyBwJqJ6"
      },
      "outputs": [],
      "source": [
        "#@title\n",
        "import os\n",
        "from google.colab import drive\n",
        "drive.mount('/content/drive')"
      ]
    },
    {
      "cell_type": "code",
      "execution_count": null,
      "metadata": {
        "cellView": "form",
        "collapsed": true,
        "id": "VzFdgd8Hqnoe"
      },
      "outputs": [],
      "source": [
        "#@title\n",
        "!git clone https://github.com/abhishtagatya/paintgan\n",
        "%cd paintgan\n",
        "!git pull\n",
        "!pip install tensorflow_addons"
      ]
    },
    {
      "cell_type": "code",
      "execution_count": 3,
      "metadata": {
        "id": "AshRESADA7UZ",
        "cellView": "form"
      },
      "outputs": [],
      "source": [
        "#@title\n",
        "import glob\n",
        "from PIL import Image\n",
        "\n",
        "\n",
        "def make_gif(model_name, epoch):\n",
        "  fpath = \"{MODEL_NAME}/results/{MODEL_NAME}_{EPOCH}.png\"\n",
        "  fout = f\"{model_name}_{epoch}.gif\"\n",
        "\n",
        "  imgs = []\n",
        "  for i in range(epoch):\n",
        "    imgs.append(Image.open(fpath.format(MODEL_NAME=model_name, EPOCH=i+1)))\n",
        "\n",
        "  imgs = iter(imgs)\n",
        "  img = next(imgs)\n",
        "  img.save(fp=fout, format='GIF', append_images=imgs,\n",
        "          save_all=True, duration=200, loop=0)"
      ]
    },
    {
      "cell_type": "markdown",
      "metadata": {
        "id": "UsnvInoW45bh"
      },
      "source": [
        "### Download Datasets"
      ]
    },
    {
      "cell_type": "code",
      "execution_count": 4,
      "metadata": {
        "cellView": "form",
        "id": "JXzxgGbIRHEC"
      },
      "outputs": [],
      "source": [
        "#@title Kaggle Auth\n",
        "\n",
        "os.environ['KAGGLE_USERNAME'] = \"abhishtagatya\" #@param {type:\"string\"}\n",
        "os.environ['KAGGLE_KEY'] = \"f1266f50ab676ac6cecf736bc495df56\" #@param {type:\"string\"}"
      ]
    },
    {
      "cell_type": "code",
      "execution_count": null,
      "metadata": {
        "cellView": "form",
        "collapsed": true,
        "id": "2WvlPKwrJ0Dh"
      },
      "outputs": [],
      "source": [
        "#@title Download Dataset (Alternative)\n",
        "\n",
        "!unzip /content/drive/MyDrive/Dataset/paintgan-80k_intact.zip"
      ]
    },
    {
      "cell_type": "code",
      "execution_count": null,
      "metadata": {
        "cellView": "form",
        "id": "6M8_TMSY3LX9"
      },
      "outputs": [],
      "source": [
        "#@title Download Evaluation Dataset\n",
        "\n",
        "!python -m scripts.download --source=DRIVE --data-dir=. --dataset=EVAL\n",
        "!python -m scripts.download --source=DRIVE --data-dir=paintgan-dataset/eval_set.hdf5 --dataset=EVAL_SET\n",
        "!python -m scripts.download --source=DRIVE --data-dir=paintgan-dataset/eval_model.h5 --dataset=EVAL_MODEL"
      ]
    },
    {
      "cell_type": "code",
      "execution_count": 7,
      "metadata": {
        "cellView": "form",
        "id": "w72D8TPjUL83"
      },
      "outputs": [],
      "source": [
        "#@title Download Dataset Config (Kaggle)\n",
        "\n",
        "os.environ['K_DATA_DIR'] = \"./cartoon-dataset\" #@param {type:\"string\"}\n",
        "os.environ['K_DATASET'] = \"volkandl/cartoon-classification\" #@param {type:\"string\"}"
      ]
    },
    {
      "cell_type": "code",
      "execution_count": 8,
      "metadata": {
        "cellView": "form",
        "id": "NSkibLuy5E67"
      },
      "outputs": [],
      "source": [
        "#@title Download Dataset (Kaggle)\n",
        "\n",
        "!python -m scripts.download --source=KAGGLE --data-dir=$K_DATA_DIR --dataset=$K_DATASET"
      ]
    },
    {
      "cell_type": "code",
      "execution_count": 9,
      "metadata": {
        "id": "jS8typbP5A1f",
        "cellView": "form"
      },
      "outputs": [],
      "source": [
        "#@title Domain Config\n",
        "\n",
        "CONTENT_PATH = \"./paintgan-dataset/places365/\" #@param {type:\"string\"}\n",
        "STYLE_PATH = \"./paintgan-dataset/wikiart/\" #@param {type:\"string\"}\n",
        "EVAL_PATH = \"./paintgan-eval/\" #@param {type:\"string\"}\n",
        "\n",
        "DECEPTION_MODEL = \"deception_model.h5\"\n",
        "EVAL_DATASET = \"eval_set.hdf5\"\n",
        "\n",
        "CONTENT_TEST = \"./paintgan-eval/000000000139.jpg\" #@param {type:\"string\"}\n",
        "STYLE_TEST = \"./paintgan-dataset/wikiart/Expressionism/salvador-dali_two-adolescents.jpg\" #@param {type:\"string\"}\n",
        "DOMAIN_TEST = \"vincent-van-gogh\" #@param {type:\"string\"}\n",
        "\n",
        "FILE_SUFFIX = DOMAIN_TEST + '.jpg'\n",
        "\n",
        "os.environ['CONTENT_PATH'] = CONTENT_PATH\n",
        "os.environ['STYLE_PATH'] = STYLE_PATH\n",
        "os.environ['EVAL_PATH'] = EVAL_PATH\n",
        "\n",
        "os.environ['DECEPTION_MODEL'] = DECEPTION_MODEL\n",
        "os.environ['EVAL_DATASET'] = EVAL_DATASET\n",
        "\n",
        "os.environ['CONTENT_TEST'] = CONTENT_TEST\n",
        "os.environ['STYLE_TEST'] = STYLE_TEST\n",
        "os.environ['DOMAIN_TEST'] = DOMAIN_TEST\n",
        "\n",
        "os.environ['FILE_SUFFIX'] = FILE_SUFFIX\n",
        "\n",
        "#@markdown ---\n",
        "#@markdown ### Alternative Domain Config\n",
        "\n",
        "os.environ['STYLE_PATH_ALT'] = \"./cartoon-dataset/cartoon_classification/TRAIN/\" #@param {type:\"string\"}\n",
        "\n",
        "os.environ['CONTENT_TEST_ALT'] = \"./paintgan-eval/Places365_val_00008472.jpg\" #@param {type:\"string\"}\n",
        "os.environ['STYLE_TEST_ALT'] = \"./cartoon-dataset/cartoon_classification/TRAIN/Tsubasa/TSUBASA7370.jpg\" #@param {type:\"string\"}\n",
        "os.environ['DOMAIN_TEST_ALT'] = \"adventure_time\" #@param {type:\"string\"}\n",
        "\n",
        "os.environ['FILE_SUFFIX_ALT'] = os.environ['DOMAIN_TEST_ALT'] + '.jpg'\n"
      ]
    },
    {
      "cell_type": "markdown",
      "metadata": {
        "id": "CzT8ffGUwZ_-"
      },
      "source": [
        "### Style Images (Arbitrary)"
      ]
    },
    {
      "cell_type": "code",
      "execution_count": null,
      "metadata": {
        "id": "qIlxUlcXI6jQ"
      },
      "outputs": [],
      "source": [
        "style_images_select = {\n",
        "    'claude-monet': 'paintgan-dataset/wikiart/Impressionism/claude-monet_the-seine-near-giverny-1.jpg',\n",
        "    'nicholas-roerich': 'paintgan-dataset/wikiart/Symbolism/nicholas-roerich_himalayas-chain-of-kanchenjunga-1936.jpg',\n",
        "    'pablo-picasso': 'paintgan-dataset/wikiart/Cubism/pablo-picasso_flowers-on-the-table-1907.jpg',\n",
        "    'paul-cezanne': 'paintgan-dataset/wikiart/Post_Impressionism/paul-cezanne_house-with-red-roof-1890.jpg',\n",
        "    'salvador-dali': 'paintgan-dataset/wikiart/Expressionism/salvador-dali_two-adolescents.jpg',\n",
        "    'vincent-van-gogh': 'paintgan-dataset/wikiart/Post_Impressionism/vincent-van-gogh_the-gully-peiroulets-1889.jpg',\n",
        "}"
      ]
    },
    {
      "cell_type": "markdown",
      "metadata": {
        "id": "WtxyEta6QPEY"
      },
      "source": [
        "### A Neural Style Algorithm"
      ]
    },
    {
      "cell_type": "code",
      "execution_count": 10,
      "metadata": {
        "id": "ctdEIHnCYitI",
        "cellView": "form"
      },
      "outputs": [],
      "source": [
        "#@title Training Config\n",
        "\n",
        "GATYS_CONTENT_TEST = \"./paintgan-eval/000000017031.jpg\" #@param {type:\"string\"}\n",
        "GATYS_STYLE_TEST = \"./paintgan-dataset/wikiart/Post_Impressionism/paul-cezanne_house-with-red-roof-1890.jpg\" #@param {type:\"string\"}\n",
        "GATYS_EPOCH = \"10\" #@param {type:\"string\"}\n",
        "\n",
        "os.environ['GATYS_CONTENT_TEST'] = GATYS_CONTENT_TEST\n",
        "os.environ['GATYS_STYLE_TEST'] = GATYS_STYLE_TEST\n",
        "os.environ['GATYS_EPOCH'] = GATYS_EPOCH"
      ]
    },
    {
      "cell_type": "code",
      "execution_count": null,
      "metadata": {
        "cellView": "form",
        "id": "fBCVkgzGyxbJ"
      },
      "outputs": [],
      "source": [
        "#@title Training A Neural Style Algorithm\n",
        "\n",
        "!python -m scripts.train --model=gatys \\\n",
        "  --content=$GATYS_CONTENT_TEST \\\n",
        "  --style=$GATYS_STYLE_TEST \\\n",
        "  --epochs=$GATYS_EPOCH"
      ]
    },
    {
      "cell_type": "code",
      "execution_count": 12,
      "metadata": {
        "id": "I7xY9XiqBU8F"
      },
      "outputs": [],
      "source": [
        "make_gif('Gatys', int(GATYS_EPOCH))"
      ]
    },
    {
      "cell_type": "code",
      "execution_count": null,
      "metadata": {
        "id": "11C_CElFnig-",
        "cellView": "form"
      },
      "outputs": [],
      "source": [
        "#@title Testing A Neural Style Algorithm\n",
        "\n",
        "!time python -m scripts.test --model=gatys \\\n",
        "  --content=$CONTENT_TEST_ALT \\\n",
        "  --style=$STYLE_TEST_ALT \\\n",
        "  --save-file=$FILE_SUFFIX_ALT"
      ]
    },
    {
      "cell_type": "code",
      "execution_count": null,
      "metadata": {
        "id": "JVUjairkoodl",
        "cellView": "form"
      },
      "outputs": [],
      "source": [
        "#@title Evaluating A Neural Style Algorithm\n",
        "\n",
        "!python -m scripts.evaluate --model=gatys \\\n",
        "  --content=$EVAL_PATH \\\n",
        "  --style=$STYLE_TEST \\\n",
        "  --save-file=$FILE_SUFFIX"
      ]
    },
    {
      "cell_type": "code",
      "execution_count": null,
      "metadata": {
        "id": "R5jDn9lAOdM6",
        "cellView": "form"
      },
      "outputs": [],
      "source": [
        "#@title Scoring A Neural Style Algorithm\n",
        "\n",
        "!python -m scripts.score --metric=deception \\\n",
        "  --model=gatys \\\n",
        "  --eval-dir=./Gatys/evaluates/ \\\n",
        "  --eval-dataset=$EVAL_DATASET \\\n",
        "  --checkpoint=$DECEPTION_MODEL"
      ]
    },
    {
      "cell_type": "markdown",
      "metadata": {
        "id": "v6IPeezqKvob"
      },
      "source": [
        "### AdaIN"
      ]
    },
    {
      "cell_type": "code",
      "execution_count": null,
      "metadata": {
        "cellView": "form",
        "id": "wOZ6e2oAZ2Ib"
      },
      "outputs": [],
      "source": [
        "#@title Training Config\n",
        "\n",
        "ADAIN_EPOCH = \"50\" #@param {type:\"string\"}\n",
        "ADAIN_BATCH = \"32\" #@param {type:\"string\"}\n",
        "ADAIN_STEPS = \"100\" #@param {type:\"string\"}\n",
        "\n",
        "ADAIN_DRIVE_CHECKPOINT = \"/content/drive/MyDrive/Dataset/adain_50.zip\" #@param {type:\"string\"}\n",
        "ADAIN_CHECKPOINT_PATH = \"/content/paintgan/content/paintgan/AdaIN/checkpoints/AdaIN_50.ckpt\" #@param {type:\"string\"}\n",
        "\n",
        "os.environ['ADAIN_EPOCH'] = ADAIN_EPOCH\n",
        "os.environ['ADAIN_BATCH'] = ADAIN_BATCH\n",
        "os.environ['ADAIN_STEPS'] = ADAIN_STEPS\n",
        "\n",
        "os.environ['ADAIN_DRIVE_CHECKPOINT'] = ADAIN_DRIVE_CHECKPOINT\n",
        "os.environ['ADAIN_CHECKPOINT_PATH'] = ADAIN_CHECKPOINT_PATH"
      ]
    },
    {
      "cell_type": "code",
      "execution_count": null,
      "metadata": {
        "cellView": "form",
        "id": "BNC9iJZzrcyt"
      },
      "outputs": [],
      "source": [
        "#@title Training AdaIN\n",
        "\n",
        "!python -m scripts.train --model=adain \\\n",
        "  --content=$CONTENT_PATH \\\n",
        "  --style=$STYLE_PATH \\\n",
        "  --epochs=$ADAIN_EPOCH \\\n",
        "  --batch-size=$ADAIN_BATCH \\\n",
        "  --steps-per-epoch=$ADAIN_STEPS"
      ]
    },
    {
      "cell_type": "code",
      "execution_count": null,
      "metadata": {
        "id": "0KCOz29-rxP7"
      },
      "outputs": [],
      "source": [
        "make_gif('AdaIN', int(ADAIN_EPOCH))"
      ]
    },
    {
      "cell_type": "code",
      "execution_count": null,
      "metadata": {
        "cellView": "form",
        "id": "odse47iibZBF"
      },
      "outputs": [],
      "source": [
        "#@title Saving Checkpoint\n",
        "\n",
        "!zip -r adain_50_cartoon.zip /content/paintgan/AdaIN/checkpoints/* \n",
        "!mv adain_50_cartoon.zip /content/drive/MyDrive/Dataset/adain_50_cartoon.zip"
      ]
    },
    {
      "cell_type": "code",
      "execution_count": null,
      "metadata": {
        "cellView": "form",
        "id": "hZisSjWwz2Mw"
      },
      "outputs": [],
      "source": [
        "#@title Unloading Checkpoint\n",
        "\n",
        "!unzip $ADAIN_DRIVE_CHECKPOINT"
      ]
    },
    {
      "cell_type": "code",
      "execution_count": null,
      "metadata": {
        "cellView": "form",
        "id": "ay9jKFBO3geT"
      },
      "outputs": [],
      "source": [
        "#@title Testing AdaIN\n",
        "\n",
        "!time python -m scripts.test --model=adain \\\n",
        "  --content=$CONTENT_TEST  \\\n",
        "  --style=$STYLE_TEST \\\n",
        "  --checkpoint=$ADAIN_CHECKPOINT_PATH \\\n",
        "  --save-file=$FILE_SUFFIX"
      ]
    },
    {
      "cell_type": "code",
      "execution_count": null,
      "metadata": {
        "cellView": "form",
        "id": "vtoC7elshMJY"
      },
      "outputs": [],
      "source": [
        "#@title Evaluating AdaIN\n",
        "\n",
        "!python -m scripts.evaluate --model=adain \\\n",
        "  --content=$EVAL_PATH \\\n",
        "  --style=$STYLE_TEST \\\n",
        "  --checkpoint=@ADAIN_CHECKPOINT_PATH \\\n",
        "  --save-file=$FILE_SUFFIX"
      ]
    },
    {
      "cell_type": "code",
      "execution_count": null,
      "metadata": {
        "cellView": "form",
        "id": "9Phs_1q8OyvD"
      },
      "outputs": [],
      "source": [
        "#@title Scoring AdaIN\n",
        "\n",
        "!python -m scripts.score --metric=deception \\\n",
        "  --model=adain-pc \\\n",
        "  --eval-dir=./AdaIN/evaluates/ \\\n",
        "  --eval-dataset=$EVAL_DATASET \\\n",
        "  --checkpoint=$DECEPTION_MODEL"
      ]
    },
    {
      "cell_type": "markdown",
      "metadata": {
        "id": "qGZvheoDKy9_"
      },
      "source": [
        "### CycleGAN"
      ]
    },
    {
      "cell_type": "code",
      "execution_count": null,
      "metadata": {
        "cellView": "form",
        "id": "qznLIxH-btwr"
      },
      "outputs": [],
      "source": [
        "#@title Training Config\n",
        "\n",
        "CYCLEGAN_EPOCH = \"90\" #@param {type:\"string\"}\n",
        "CYCLEGAN_BUFFER = \"256\" #@param {type:\"string\"}\n",
        "CYCLEGAN_BATCH = \"1\" #@param {type:\"string\"}\n",
        "\n",
        "CYCLEGAN_DRIVE_CHECKPOINT = \"/content/drive/MyDrive/Dataset/cyclegan-pc_90.zip\" #@param {type:\"string\"}\n",
        "CYCLEGAN_CHECKPOINT_PATH = \"/content/paintgan/content/paintgan/CycleGAN/checkpoints/paul-cezanne_90/\" #@param {type:\"string\"}\n",
        "\n",
        "os.environ['CYCLEGAN_EPOCH'] = CYCLEGAN_EPOCH\n",
        "os.environ['CYCLEGAN_BUFFER'] = CYCLEGAN_BUFFER\n",
        "os.environ['CYCLEGAN_BATCH'] = CYCLEGAN_BATCH\n",
        "\n",
        "os.environ['CYCLEGAN_DRIVE_CHECKPOINT'] = CYCLEGAN_DRIVE_CHECKPOINT\n",
        "os.environ['CYCLEGAN_CHECKPOINT_PATH'] = CYCLEGAN_CHECKPOINT_PATH"
      ]
    },
    {
      "cell_type": "code",
      "execution_count": null,
      "metadata": {
        "colab": {
          "background_save": true
        },
        "id": "m9PT7kUogHjw",
        "cellView": "form"
      },
      "outputs": [],
      "source": [
        "#@title Training CycleGAN\n",
        "\n",
        "!python -m scripts.train --model=cyclegan \\\n",
        "  --content=$CONTENT_PATH \\\n",
        "  --style=$STYLE_PATH \\\n",
        "  --style-domain=$DOMAIN_TEST \\\n",
        "  --epochs=$CYCLEGAN_EPOCH \\\n",
        "  --buffer-size=$CYCLEGAN_BUFFER \\\n",
        "  --batch-size=$CYCLEGAN_BATCH"
      ]
    },
    {
      "cell_type": "code",
      "execution_count": null,
      "metadata": {
        "id": "v9KJ-WUzCWBw"
      },
      "outputs": [],
      "source": [
        "make_gif('CycleGAN', int(CYCLEGAN_EPOCH))"
      ]
    },
    {
      "cell_type": "code",
      "execution_count": null,
      "metadata": {
        "cellView": "form",
        "id": "RwFF8cTMcB9Y"
      },
      "outputs": [],
      "source": [
        "#@title Saving Checkpoint\n",
        "\n",
        "!zip -r ${DOMAIN_TEST}_${CYCLEGAN_EPOCH}.zip /content/paintgan/CycleGAN/checkpoints/${DOMAIN_TEST}_${CYCLEGAN_EPOCH}/* \n",
        "!mv ${DOMAIN_TEST}_${CYCLEGAN_EPOCH}.zip /content/drive/MyDrive/Dataset/cyclegan-${DOMAIN_TEST}_${CYCLEGAN_EPOCH}.zip"
      ]
    },
    {
      "cell_type": "code",
      "execution_count": null,
      "metadata": {
        "cellView": "form",
        "id": "HOXTlfCCRG42"
      },
      "outputs": [],
      "source": [
        "#@title Unloading Checkpoint\n",
        "\n",
        "!unzip $CYCLEGAN_DRIVE_CHECKPOINT"
      ]
    },
    {
      "cell_type": "code",
      "execution_count": null,
      "metadata": {
        "cellView": "form",
        "id": "oGIewpYyhhCg"
      },
      "outputs": [],
      "source": [
        "#@title Testing CycleGAN\n",
        "\n",
        "!time python -m scripts.test --model=cyclegan \\\n",
        "  --content=$CONTENT_TEST \\\n",
        "  --checkpoint=$CYCLEGAN_CHECKPOINT_PATH \\\n",
        "  --save-file=$FILE_SUFFIX"
      ]
    },
    {
      "cell_type": "code",
      "execution_count": null,
      "metadata": {
        "cellView": "form",
        "id": "zJYdUHvcQWAZ"
      },
      "outputs": [],
      "source": [
        "#@title Evaluating CycleGAN\n",
        "\n",
        "!python -m scripts.evaluate --model=cyclegan \\\n",
        "  --content=$EVAL_PATH \\\n",
        "  --checkpoint=$CYCLEGAN_CHECKPOINT_PATH \\\n",
        "  --save-file=$FILE_SUFFIX"
      ]
    },
    {
      "cell_type": "code",
      "execution_count": null,
      "metadata": {
        "cellView": "form",
        "id": "B-clmCKMTMQE"
      },
      "outputs": [],
      "source": [
        "#@title Scoring CycleGAN\n",
        "\n",
        "!python -m scripts.score --metric=deception \\\n",
        "  --model=cyclegan-pc \\\n",
        "  --eval-dir=./CycleGAN/evaluates/ \\\n",
        "  --eval-dataset=$EVAL_DATASET \\\n",
        "  --checkpoint=$DECEPTION_MODEL"
      ]
    },
    {
      "cell_type": "markdown",
      "metadata": {
        "id": "GCPu2FQqTbpH"
      },
      "source": [
        "### DiscoGAN"
      ]
    },
    {
      "cell_type": "code",
      "execution_count": 18,
      "metadata": {
        "cellView": "form",
        "id": "ZaOvbEJpd9dR"
      },
      "outputs": [],
      "source": [
        "#@title Training Config\n",
        "\n",
        "DISCOGAN_EPOCH = \"20\" #@param {type:\"string\"}\n",
        "DISCOGAN_BATCH = \"1\" #@param {type:\"string\"}\n",
        "\n",
        "DISCOGAN_DRIVE_CHECKPOINT = \"/content/drive/MyDrive/Dataset/pgan-pc_1_20.zip\" #@param {type:\"string\"}\n",
        "DISCOGAN_CHECKPOINT_PATH = \"/content/paintgan/content/paintgan/PaintGAN/checkpoints/paul-cezanne_90/\" #@param {type:\"string\"}\n",
        "\n",
        "os.environ['DISCOGAN_EPOCH'] = DISCOGAN_EPOCH\n",
        "os.environ['DISCOGAN_BATCH'] = DISCOGAN_BATCH\n",
        "\n",
        "os.environ['DISCOGAN_DRIVE_CHECKPOINT'] = DISCOGAN_DRIVE_CHECKPOINT\n",
        "os.environ['DISCOGAN_CHECKPOINT_PATH'] = DISCOGAN_CHECKPOINT_PATH"
      ]
    },
    {
      "cell_type": "code",
      "execution_count": null,
      "metadata": {
        "cellView": "form",
        "id": "cHHLVMiiTafo"
      },
      "outputs": [],
      "source": [
        "#@title Training PaintGAN\n",
        "\n",
        "!python -m scripts.train --model=discogan \\\n",
        "  --content=$CONTENT_PATH \\\n",
        "  --style=$STYLE_PATH \\\n",
        "  --style-domain=$DOMAIN_TEST \\\n",
        "  --epochs=$DISCOGAN_EPOCH \\\n",
        "  --batch-size=$DISCOGAN_BATCH"
      ]
    },
    {
      "cell_type": "code",
      "source": [
        "make_gif('DiscoGAN', int(DISCOGAN_EPOCH))"
      ],
      "metadata": {
        "id": "AAdQ0o4zaJ1s"
      },
      "execution_count": null,
      "outputs": []
    },
    {
      "cell_type": "code",
      "execution_count": null,
      "metadata": {
        "cellView": "form",
        "id": "AwYv_pkfeME9"
      },
      "outputs": [],
      "source": [
        "#@title Saving Checkpoint\n",
        "\n",
        "!zip -r ${DOMAIN_TEST}_${DISCOGAN_EPOCH}.zip /content/paintgan/DiscoGAN/checkpoints/${DOMAIN_TEST}_${DISCOGAN_EPOCH}/* \n",
        "!mv ${DOMAIN_TEST}_${DISCOGAN_EPOCH}.zip /content/drive/MyDrive/Dataset/paintgan-${DOMAIN_TEST}_${DISCOGAN_EPOCH}.zip"
      ]
    },
    {
      "cell_type": "code",
      "execution_count": null,
      "metadata": {
        "cellView": "form",
        "id": "nFr4vi25iyYJ"
      },
      "outputs": [],
      "source": [
        "#@title Unloading Checkpoint\n",
        "\n",
        "!unzip $DISCOGAN_DRIVE_CHECKPOINT"
      ]
    },
    {
      "cell_type": "code",
      "execution_count": null,
      "metadata": {
        "id": "gwENWjA18reL",
        "cellView": "form"
      },
      "outputs": [],
      "source": [
        "#@title Testing PaintGAN\n",
        "\n",
        "!time python -m scripts.test --model=discogan \\\n",
        "  --content=$CONTENT_TEST \\\n",
        "  --checkpoint=$DISCOGAN_CHECKPOINT_PATH \\\n",
        "  --save-file=$FILE_SUFFIX"
      ]
    },
    {
      "cell_type": "code",
      "execution_count": null,
      "metadata": {
        "cellView": "form",
        "id": "3KXzOW849w4h"
      },
      "outputs": [],
      "source": [
        "#@title Evaluating PaintGAN\n",
        "\n",
        "!python -m scripts.evaluate --model=discogan \\\n",
        "  --content=$CONTENT_TEST \\\n",
        "  --checkpoint=$DISCOGAN_CHECKPOINT_PATH \\\n",
        "  --save-file=$FILE_SUFFIX"
      ]
    },
    {
      "cell_type": "code",
      "execution_count": null,
      "metadata": {
        "cellView": "form",
        "id": "yCelXjHISG8B"
      },
      "outputs": [],
      "source": [
        "#@title Scoring PaintGAN\n",
        "\n",
        "!python -m scripts.score --metric=deception \\\n",
        "  --model=discogan-sd \\\n",
        "  --eval-dir=./DiscoGAN/evaluates/ \\\n",
        "  --eval-dataset=$EVAL_DATASET \\\n",
        "  --checkpoint=$DECEPTION_MODEL"
      ]
    }
  ],
  "metadata": {
    "accelerator": "GPU",
    "colab": {
      "background_execution": "on",
      "collapsed_sections": [
        "_WvZ64fa47df",
        "UsnvInoW45bh",
        "CzT8ffGUwZ_-"
      ],
      "machine_shape": "hm",
      "provenance": []
    },
    "gpuClass": "standard",
    "kernelspec": {
      "display_name": "Python 3",
      "name": "python3"
    },
    "language_info": {
      "name": "python"
    }
  },
  "nbformat": 4,
  "nbformat_minor": 0
}